{
  "cells": [
    {
      "cell_type": "markdown",
      "metadata": {
        "id": "izmeeJoOrkTt"
      },
      "source": [
        "# Function Calling in Nebius AI Studio\n",
        "\n",
        "[![Open In Colab](https://colab.research.google.com/assets/colab-badge.svg)](https://colab.research.google.com/github/nebius/ai-studio-cookbook/blob/main/tool-calling/function_calling_1.ipynb)\n",
        "[![](https://img.shields.io/badge/Powered%20by-Nebius%20AI-orange?style=flat&labelColor=darkblue&color=green)](https://nebius.com/ai-studio)\n",
        "\n",
        "## Pre requisites\n",
        "\n",
        "- Nebius API key.  Sign up for free at [AI Studio](https://studio.nebius.com/)\n",
        "\n"
      ]
    },
    {
      "cell_type": "markdown",
      "metadata": {
        "id": "q2iHeYLvSKsZ"
      },
      "source": [
        "## 1 - Setup\n",
        "\n",
        "### 1.1 - If running on Google Colab\n",
        "\n",
        "Add `NEBIUS_API_KEY` to **Secrets** as follows\n",
        "\n",
        "![](https://github.com/nebius/ai-studio-cookbook/raw/main/images/google-colab-1.png)\n",
        "\n",
        "\n",
        "### 1.2 - If running locally\n",
        "\n",
        "Create an `.env` file with NEBIUS_API_KEY as follows\n",
        "\n",
        "```text\n",
        "NEBIUS_API_KEY=your_api_key_goes_here\n",
        "```\n",
        "\n"
      ]
    },
    {
      "cell_type": "markdown",
      "metadata": {
        "id": "iNJ-WCDSEy0G"
      },
      "source": [
        "## 2 - Install Dependencies"
      ]
    },
    {
      "cell_type": "code",
      "execution_count": 1,
      "metadata": {
        "colab": {
          "base_uri": "https://localhost:8080/"
        },
        "id": "9r1P3dohSTk8",
        "outputId": "fc814886-3e75-4ae5-fe10-d19cd62e65b9"
      },
      "outputs": [
        {
          "name": "stdout",
          "output_type": "stream",
          "text": [
            "NOT running on Colab\n"
          ]
        }
      ],
      "source": [
        "import os\n",
        "\n",
        "if os.getenv(\"COLAB_RELEASE_TAG\"):\n",
        "   print(\"Running on Colab\")\n",
        "   RUNNING_ON_COLAB = True\n",
        "else:\n",
        "   print(\"NOT running on Colab\")\n",
        "   RUNNING_ON_COLAB = False"
      ]
    },
    {
      "cell_type": "code",
      "execution_count": 2,
      "metadata": {
        "id": "OTElVQApE9I7"
      },
      "outputs": [],
      "source": [
        "#if RUNNING_ON_COLAB:\n",
        "!pip install -q openai python-dotenv  pydantic"
      ]
    },
    {
      "cell_type": "markdown",
      "metadata": {
        "id": "Xp6woeSsFGo5"
      },
      "source": [
        "## 3 - Load Configuration\n"
      ]
    },
    {
      "cell_type": "code",
      "execution_count": 3,
      "metadata": {
        "colab": {
          "base_uri": "https://localhost:8080/"
        },
        "id": "sFSX16IeFLKa",
        "outputId": "7acf376c-747c-47f3-ba61-540a1e7c288f"
      },
      "outputs": [
        {
          "name": "stdout",
          "output_type": "stream",
          "text": [
            "✅ NEBIUS_API_KEY found\n"
          ]
        }
      ],
      "source": [
        "import os\n",
        "\n",
        "## Recommended way of getting configuration\n",
        "if RUNNING_ON_COLAB:\n",
        "   from google.colab import userdata\n",
        "   NEBIUS_API_KEY = userdata.get('NEBIUS_API_KEY')\n",
        "else:\n",
        "   from dotenv import load_dotenv\n",
        "   load_dotenv()\n",
        "   NEBIUS_API_KEY = os.getenv('NEBIUS_API_KEY')\n",
        "\n",
        "\n",
        "## quick hack (not recommended) - you can hardcode the config key here\n",
        "# NEBIUS_API_KEY = \"your_key_here\"\n",
        "\n",
        "if NEBIUS_API_KEY:\n",
        "  print ('✅ NEBIUS_API_KEY found')\n",
        "  os.environ['NEBIUS_API_KEY'] = NEBIUS_API_KEY\n",
        "else:\n",
        "  raise RuntimeError ('❌ NEBIUS_API_KEY NOT found')"
      ]
    },
    {
      "cell_type": "markdown",
      "metadata": {
        "id": "e3vB3EdQGnLX"
      },
      "source": [
        "## 4 - Pick a Model\n",
        "\n",
        "We will pick a model that supports function calling.\n",
        "\n",
        "1. Go to **models** tab in [studio.nebius.com](https://studio.nebius.com/)\n",
        "2. Select **text to text** models\n",
        "3. Select **function calling** filter\n",
        "4. Copy the model name.  For example **`Qwen/Qwen3-30B-A3B`**\n",
        "\n",
        "See screenshot here:\n",
        "\n",
        "![](https://github.com/nebius/ai-studio-cookbook/raw/main/tool-calling/function-calling-1.png)\n",
        "\n",
        "**Recomended models:**\n",
        "\n",
        "- Qwen3 family\n",
        "   - Qwen/Qwen3-30B-A3B\n",
        "   - Qwen/Qwen3-235B-A22B\n",
        "- Deepseek family\n",
        "   - deepseek-ai/DeepSeek-R1-0528\n",
        "- Llama\n",
        "   - meta-llama/Llama-3.3-70B-Instruct\n",
        "\n",
        "\n"
      ]
    },
    {
      "cell_type": "markdown",
      "metadata": {
        "id": "N5eM_eOnUiKH"
      },
      "source": [
        "## 5 - Define Function Call\n",
        "\n",
        "Here we will use [pydantic](https://docs.pydantic.dev/latest/) to define the schema"
      ]
    },
    {
      "cell_type": "code",
      "execution_count": 4,
      "metadata": {
        "id": "coxkHEX4UuTz"
      },
      "outputs": [],
      "source": [
        "from pydantic import BaseModel, Field\n",
        "from typing import Literal\n",
        "\n",
        "class GetCurrentWeatherParams(BaseModel):\n",
        "    city: str = Field(..., description=\"The city to find the weather for, e.g. 'San Francisco'\")\n",
        "    unit: Literal['celsius', 'fahrenheit'] = Field(..., description=\"The unit to fetch the temperature in\")\n",
        "\n",
        "# Now, simulate a tool call\n",
        "## in real example you will use an API to get the actual weather data\n",
        "def get_current_weather(city: str, unit: str):\n",
        "    return (\"The weather in San Francisco is 72 degrees fahrenheit. \"\n",
        "            \"It is sunny, with highs in the 80's.\")\n",
        "\n",
        "tools = [{\n",
        "    \"type\": \"function\",\n",
        "    \"function\": {\n",
        "        \"name\": \"get_current_weather\",\n",
        "        \"description\": \"Get the current weather in a given location\",\n",
        "        \"parameters\": GetCurrentWeatherParams.model_json_schema()\n",
        "    }\n",
        "}]\n",
        "\n",
        "available_tools = {\"get_current_weather\": get_current_weather}"
      ]
    },
    {
      "cell_type": "markdown",
      "metadata": {
        "id": "nHYgv5i2Wo-P"
      },
      "source": [
        "## 6 - Tool calling"
      ]
    },
    {
      "cell_type": "code",
      "execution_count": 5,
      "metadata": {
        "colab": {
          "base_uri": "https://localhost:8080/"
        },
        "id": "R8htBO7iH6-e",
        "outputId": "d81faf10-0324-4464-ae5f-494629f6f40d"
      },
      "outputs": [
        {
          "name": "stdout",
          "output_type": "stream",
          "text": [
            "CPU times: user 490 ms, sys: 65.7 ms, total: 555 ms\n",
            "Wall time: 612 ms\n"
          ]
        }
      ],
      "source": [
        "%%time\n",
        "\n",
        "import json\n",
        "import os\n",
        "\n",
        "from openai import OpenAI\n",
        "\n",
        "client = OpenAI(\n",
        "    base_url=\"https://api.studio.nebius.com/v1/\",\n",
        "    api_key=NEBIUS_API_KEY,\n",
        ")\n"
      ]
    },
    {
      "cell_type": "code",
      "execution_count": 6,
      "metadata": {
        "colab": {
          "base_uri": "https://localhost:8080/"
        },
        "id": "saeAnN8kUZ6j",
        "outputId": "df3da07d-5ed3-45c4-933f-2f2edab7c75f"
      },
      "outputs": [
        {
          "name": "stdout",
          "output_type": "stream",
          "text": [
            "The weather in San Francisco is 72 degrees fahrenheit. It is sunny, with highs in the 80's.\n"
          ]
        }
      ],
      "source": [
        "messages=[\n",
        "    {\n",
        "        \"role\": \"user\",\n",
        "        \"content\": \"Can you tell me what the temperature will be in San Francisco?\",\n",
        "    },\n",
        "  ]\n",
        "\n",
        "chat_completion = client.chat.completions.create(\n",
        "  model = \"Qwen/Qwen3-30B-A3B\",\n",
        "  messages=messages,\n",
        "  tools = tools,\n",
        "  tool_choice = {\n",
        "        \"type\": \"function\",\n",
        "        \"function\": {\n",
        "            \"name\": \"get_current_weather\"\n",
        "        }\n",
        "    }\n",
        ")\n",
        "\n",
        "messages.append({\n",
        "    \"role\": \"assistant\",\n",
        "    \"tool_calls\": chat_completion.choices[0].message.tool_calls\n",
        "})\n",
        "\n",
        "\n",
        "completion_tool_calls = chat_completion.choices[0].message.tool_calls\n",
        "for call in completion_tool_calls:\n",
        "    tool_to_call = available_tools[call.function.name]\n",
        "    args = json.loads(call.function.arguments)\n",
        "    result = tool_to_call(**args)\n",
        "    print(result)\n",
        "    messages.append({\n",
        "        \"role\": \"tool\",\n",
        "        \"content\": result,\n",
        "        \"tool_call_id\": call.id,\n",
        "        \"name\": call.function.name\n",
        "    })"
      ]
    },
    {
      "cell_type": "code",
      "execution_count": 7,
      "metadata": {
        "colab": {
          "base_uri": "https://localhost:8080/"
        },
        "id": "W3jgLk2Rbdyu",
        "outputId": "0473299b-624d-46cc-9b28-a481488dab32"
      },
      "outputs": [
        {
          "data": {
            "text/plain": [
              "[{'role': 'user',\n",
              "  'content': 'Can you tell me what the temperature will be in San Francisco?'},\n",
              " {'role': 'assistant',\n",
              "  'tool_calls': [ChatCompletionMessageToolCall(id='chatcmpl-tool-0c160206cdea4ca6b10cc37e4b592ad7', function=Function(arguments='{\"city\": \"San Francisco\", \"unit\": \"celsius\"}', name='get_current_weather'), type='function')]},\n",
              " {'role': 'tool',\n",
              "  'content': \"The weather in San Francisco is 72 degrees fahrenheit. It is sunny, with highs in the 80's.\",\n",
              "  'tool_call_id': 'chatcmpl-tool-0c160206cdea4ca6b10cc37e4b592ad7',\n",
              "  'name': 'get_current_weather'}]"
            ]
          },
          "execution_count": 7,
          "metadata": {},
          "output_type": "execute_result"
        }
      ],
      "source": [
        "messages"
      ]
    }
  ],
  "metadata": {
    "colab": {
      "provenance": []
    },
    "kernelspec": {
      "display_name": "tool-calling",
      "language": "python",
      "name": "python3"
    },
    "language_info": {
      "codemirror_mode": {
        "name": "ipython",
        "version": 3
      },
      "file_extension": ".py",
      "mimetype": "text/x-python",
      "name": "python",
      "nbconvert_exporter": "python",
      "pygments_lexer": "ipython3",
      "version": "3.11.12"
    }
  },
  "nbformat": 4,
  "nbformat_minor": 0
}
