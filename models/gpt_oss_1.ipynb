{
  "cells": [
    {
      "cell_type": "markdown",
      "metadata": {
        "id": "izmeeJoOrkTt"
      },
      "source": [
        "# Run GPT-OSS model on Nebius AI Studio\n",
        "\n",
        "[![Open In Colab](https://colab.research.google.com/assets/colab-badge.svg)](https://colab.research.google.com/github/nebius/ai-studio-cookbook/blob/main/models/gpt_oss_1.ipynb)\n",
        "[![](https://img.shields.io/badge/Powered%20by-Nebius-orange?style=flat&labelColor=darkblue&color=orange)](https://nebius.com/ai-studio)\n",
        "\n",
        "GPT OSS is a hugely anticipated open-weights release by OpenAI, designed for powerful reasoning, agentic tasks, and versatile developer use cases.  It comes in 2 sizes:\n",
        "- a big one with 117B parameters (gpt-oss-120b),\n",
        "- and a smaller one with 21B parameters (gpt-oss-20b).\n",
        "\n",
        "Both are mixture-of-experts (MoEs) and use a 4-bit quantization scheme (MXFP4)\n",
        "\n",
        "[Read more here](https://github.com/nebius/ai-studio-cookbook/blob/main/models/gpt-oss.md)\n",
        "\n",
        "## References\n",
        "\n",
        "- [OpenAI open models page](https://openai.com/open-models/)  |  [github   openai/gpt-oss](https://github.com/openai/gpt-oss)\n",
        "- Model card for 120B param model: [gpt-oss-120b](https://huggingface.co/openai/gpt-oss-120b)\n",
        "- Model card for smaller 20B param model: [gpt-oss-20b](https://hf.co/openai/gpt-oss-20b)\n",
        "- [Nebius AI Studio](https://studio.nebius.com/)\n",
        "\n",
        "## Pre requisites\n",
        "\n",
        "- Nebius API key.  Sign up for free at [AI Studio](https://studio.nebius.com/)\n",
        "\n"
      ]
    },
    {
      "cell_type": "markdown",
      "metadata": {
        "id": "i3KSn4LIvFo0"
      },
      "source": [
        "## 1 - Getting Started\n",
        "\n",
        "### 1.1 - Get your Nebius API key at [Nebius AI Studio](https://studio.nebius.com/)\n",
        "\n",
        "### 1.2 - If running on Google Colab ...\n",
        "\n",
        "Add `NEBIUS_API_KEY` to **Secrets** panel on the left as follows\n",
        "\n",
        "![](https://github.com/nebius/ai-studio-cookbook/raw/main/images/google-colab-1.png)\n",
        "\n",
        "\n",
        "### 1.3 - If running locally\n",
        "\n",
        "Create an `.env` file with NEBIUS_API_KEY as follows\n",
        "\n",
        "```text\n",
        "NEBIUS_API_KEY=your_api_key_goes_here\n",
        "```\n",
        "\n"
      ]
    },
    {
      "cell_type": "markdown",
      "metadata": {
        "id": "iNJ-WCDSEy0G"
      },
      "source": [
        "## 2 - Install Dependencies"
      ]
    },
    {
      "cell_type": "code",
      "execution_count": 1,
      "metadata": {
        "id": "OTElVQApE9I7"
      },
      "outputs": [],
      "source": [
        "%pip install -q openai python-dotenv"
      ]
    },
    {
      "cell_type": "markdown",
      "metadata": {
        "id": "Xp6woeSsFGo5"
      },
      "source": [
        "## 2 - Load Configuration\n"
      ]
    },
    {
      "cell_type": "code",
      "execution_count": 2,
      "metadata": {
        "colab": {
          "base_uri": "https://localhost:8080/"
        },
        "id": "sFSX16IeFLKa",
        "outputId": "63a7312a-7f25-4fd3-9d43-edb720dc480e"
      },
      "outputs": [
        {
          "name": "stdout",
          "output_type": "stream",
          "text": [
            "Running in Colab\n",
            "✅ NEBIUS_API_KEY found\n"
          ]
        }
      ],
      "source": [
        "import os, sys\n",
        "\n",
        "## Recommended way of getting configuration\n",
        "if os.getenv(\"COLAB_RELEASE_TAG\"):\n",
        "   print(\"Running in Colab\")\n",
        "   from google.colab import userdata\n",
        "   NEBIUS_API_KEY = userdata.get('NEBIUS_API_KEY')\n",
        "else:\n",
        "   print(\"NOT running in Colab\")\n",
        "\n",
        "   from dotenv import load_dotenv\n",
        "   load_dotenv()\n",
        "   NEBIUS_API_KEY = os.getenv('NEBIUS_API_KEY')\n",
        "\n",
        "\n",
        "## quick hack (not recommended) - you can hardcode the config key here\n",
        "# NEBIUS_API_KEY = \"your_key_here\"\n",
        "\n",
        "if NEBIUS_API_KEY:\n",
        "  print ('✅ NEBIUS_API_KEY found')\n",
        "  os.environ['NEBIUS_API_KEY'] = NEBIUS_API_KEY\n",
        "else:\n",
        "  raise RuntimeError ('❌ NEBIUS_API_KEY NOT found')"
      ]
    },
    {
      "cell_type": "markdown",
      "metadata": {
        "id": "smYPQAlBtgTQ"
      },
      "source": [
        "## 3 - Run the Model"
      ]
    },
    {
      "cell_type": "markdown",
      "metadata": {
        "id": "c67AElPbzP7z"
      },
      "source": [
        "### 3.1 - Initialize the client"
      ]
    },
    {
      "cell_type": "code",
      "execution_count": 3,
      "metadata": {
        "id": "Bx3BAsiIxfqi"
      },
      "outputs": [],
      "source": [
        "## Create a client\n",
        "import os\n",
        "from openai import OpenAI\n",
        "\n",
        "client = OpenAI(\n",
        "    base_url=\"https://api.studio.nebius.com/v1/\",\n",
        "    api_key=os.environ.get('NEBIUS_API_KEY')\n",
        ")\n",
        "\n",
        "## Select a model\n",
        "MODEL_NAME = \"openai/gpt-oss-120b\" # big model\n",
        "#MODEL_NAME = \"openai/gpt-oss-20b\"  # small brother"
      ]
    },
    {
      "cell_type": "markdown",
      "metadata": {
        "id": "dbKjxJndzT6r"
      },
      "source": [
        "### 3.2 - Find out the model's capabilities"
      ]
    },
    {
      "cell_type": "code",
      "execution_count": 4,
      "metadata": {
        "colab": {
          "base_uri": "https://localhost:8080/"
        },
        "id": "C1gN-e3Iw9H3",
        "outputId": "efcf1c46-7db6-4b1c-e06f-59c0c4008af1"
      },
      "outputs": [
        {
          "name": "stdout",
          "output_type": "stream",
          "text": [
            "----model answer -----\n",
            "I’m a GPT‑4‑based AI assistant, so my main strength is working with natural language (and, when an image is supplied, visual information as well). Here’s a quick rundown of what I can do:\n",
            "\n",
            "| Category | What I can help with |\n",
            "|----------|----------------------|\n",
            "| **Information & Knowledge** | Answer factual questions, explain concepts, summarize articles, compare topics, and provide background on science, history, technology, arts, etc. (knowledge up to June 2024). |\n",
            "| **Writing & Creativity** | Draft essays, reports, emails, blog posts, stories, poems, jokes, dialogue, scripts, marketing copy, social‑media captions, and more. I can also rewrite or edit existing text for tone, clarity, conciseness, or style. |\n",
            "| **Learning & Tutoring** | Explain math problems step‑by‑step, walk through physics or chemistry concepts, help with language learning, generate practice questions, and provide study strategies. |\n",
            "| **Programming & Technical Help** | Write, debug, and refactor code in many languages (Python, JavaScript, Java, C++, etc.), explain algorithms, suggest data‑structure choices, create SQL queries, and help with configuration files, APIs, or command‑line tasks. |\n",
            "| **Productivity & Planning** | Build outlines, to‑do lists, project plans, meeting agendas, timelines, and simple Gantt‑style schedules. I can also generate templates for resumes, cover letters, budgets, and business documents. |\n",
            "| **Data & Analysis** | Interpret CSV/JSON snippets, perform basic calculations, generate statistical summaries, suggest visualizations, and explain results in plain language. |\n",
            "| **Language Services** | Translate between many languages, proofread for grammar/spelling, adjust formality level, and localize text for different audiences. |\n",
            "| **Conversation & Role‑Play** | Simulate interviews, practice negotiations, act as a mock client or user, provide coaching for public speaking, or just chat for entertainment. |\n",
            "| **Image Understanding (when an image is provided)** | Describe the content, identify objects, read text within the picture (OCR), analyze charts/diagrams, and answer questions about visual details. |\n",
            "| **Ethical Guidance & Safety** | Offer advice on responsible AI use, data privacy, digital well‑being, and flag content that may be harmful or disallowed. |\n",
            "\n",
            "### What I **don’t** do\n",
            "- Access the live internet, real‑time databases, or personal accounts.\n",
            "- Perform actions in the physical world (e.g., send emails, place orders).\n",
            "- Provide medical, legal, or financial advice that would replace a qualified professional’s counsel.\n",
            "- Generate disallowed content (e.g., hate speech, extremist propaganda, instructions for illegal activities).\n",
            "\n",
            "### How to get the most out of me\n",
            "1. **Be specific** – clear prompts lead to clearer answers.  \n",
            "2. **Provide context** – if you have a particular audience, format, or constraint, let me know.  \n",
            "3. **Iterate** – you can ask follow‑up questions or request refinements (“make it shorter,” “use a more formal tone,” etc.).  \n",
            "\n",
            "Feel free to ask for anything within these areas, and I’ll do my best to help!\n",
            "CPU times: user 645 ms, sys: 83 ms, total: 728 ms\n",
            "Wall time: 5.82 s\n"
          ]
        }
      ],
      "source": [
        "%%time\n",
        "\n",
        "completion = client.chat.completions.create(\n",
        "  model = MODEL_NAME,\n",
        "  messages=[\n",
        "    {\n",
        "        \"role\": \"system\",\n",
        "        \"content\": \"You are a helpful assistant.\"\n",
        "    },\n",
        "    {\n",
        "        \"role\": \"user\",\n",
        "        \"content\": \"What are your capabilities?\"\n",
        "    }\n",
        "  ],\n",
        "  temperature=0.6\n",
        ")\n",
        "\n",
        "print ('----model answer -----')\n",
        "print (completion.choices[0].message.content)"
      ]
    },
    {
      "cell_type": "markdown",
      "metadata": {
        "id": "KfeT8JxlzaNm"
      },
      "source": [
        "### 3.3 - Ask a factual question"
      ]
    },
    {
      "cell_type": "code",
      "execution_count": 5,
      "metadata": {
        "colab": {
          "base_uri": "https://localhost:8080/"
        },
        "id": "R8htBO7iH6-e",
        "outputId": "c8ad3ca3-52b5-4837-9640-992309340ffc"
      },
      "outputs": [
        {
          "name": "stdout",
          "output_type": "stream",
          "text": [
            "----model answer -----\n",
            "The capital of France is **Paris**.\n",
            "\n",
            "----- full response ----\n",
            "{\n",
            "  \"id\": \"chatcmpl-2769efe8f3ad49c9a96879ea7439656a\",\n",
            "  \"choices\": [\n",
            "    {\n",
            "      \"finish_reason\": \"stop\",\n",
            "      \"index\": 0,\n",
            "      \"logprobs\": null,\n",
            "      \"message\": {\n",
            "        \"content\": \"The capital of France is **Paris**.\",\n",
            "        \"refusal\": null,\n",
            "        \"role\": \"assistant\",\n",
            "        \"annotations\": null,\n",
            "        \"audio\": null,\n",
            "        \"function_call\": null,\n",
            "        \"tool_calls\": [],\n",
            "        \"reasoning_content\": \"The user asks: \\\"What is the capital of France?\\\" Straightforward answer: Paris.\"\n",
            "      },\n",
            "      \"stop_reason\": null\n",
            "    }\n",
            "  ],\n",
            "  \"created\": 1754544553,\n",
            "  \"model\": \"openai/gpt-oss-120b\",\n",
            "  \"object\": \"chat.completion\",\n",
            "  \"service_tier\": null,\n",
            "  \"system_fingerprint\": null,\n",
            "  \"usage\": {\n",
            "    \"completion_tokens\": 37,\n",
            "    \"prompt_tokens\": 88,\n",
            "    \"total_tokens\": 125,\n",
            "    \"completion_tokens_details\": null,\n",
            "    \"prompt_tokens_details\": null\n",
            "  },\n",
            "  \"prompt_logprobs\": null,\n",
            "  \"kv_transfer_params\": null\n",
            "}\n",
            "---------\n",
            "CPU times: user 6.25 ms, sys: 0 ns, total: 6.25 ms\n",
            "Wall time: 374 ms\n"
          ]
        }
      ],
      "source": [
        "%%time\n",
        "\n",
        "completion = client.chat.completions.create(\n",
        "  model = MODEL_NAME,\n",
        "  messages=[\n",
        "    {\n",
        "        \"role\": \"system\",\n",
        "        \"content\": \"You are a helpful assistant.\"\n",
        "    },\n",
        "    {\n",
        "        \"role\": \"user\",\n",
        "        \"content\": \"What is the capital of France?\"\n",
        "    }\n",
        "  ],\n",
        "  temperature=0.6\n",
        ")\n",
        "\n",
        "print ('----model answer -----')\n",
        "print (completion.choices[0].message.content)\n",
        "print ('\\n----- full response ----')\n",
        "print(completion.to_json())\n",
        "print ('---------')\n",
        "\n",
        "\n"
      ]
    },
    {
      "cell_type": "markdown",
      "metadata": {
        "id": "yp2JEfLYzgEC"
      },
      "source": [
        "### 3.4 - Ask a reasoning question"
      ]
    },
    {
      "cell_type": "code",
      "execution_count": 6,
      "metadata": {
        "colab": {
          "base_uri": "https://localhost:8080/"
        },
        "id": "Q5KlDwxJjhEX",
        "outputId": "4a960f44-831f-4160-add0-348c118b4708"
      },
      "outputs": [
        {
          "name": "stdout",
          "output_type": "stream",
          "text": [
            "Below is a **step‑by‑step playbook** you can use (and adapt) the next time you need to shave milliseconds‑to‑seconds off the latency of a model in production.  \n",
            "I’ll walk through the **thought process**, the **key levers** you can pull, and then give **concrete code snippets** for the most common techniques. For each lever I’ll also note **alternatives** and the **trade‑offs** you’ll have to consider.\n",
            "\n",
            "---\n",
            "\n",
            "## 1️⃣  Start with a Baseline & Profile the Hot Path  \n",
            "\n",
            "> **Why?** You can’t optimize what you don’t know is slow.  \n",
            "> **What to measure:**  \n",
            "> - End‑to‑end latency (client → API → model → response)  \n",
            "> - Pure model inference time (exclude network, serialization)  \n",
            "> - CPU/GPU utilization, memory bandwidth, cache‑miss rates  \n",
            "\n",
            "**Typical tools**\n",
            "\n",
            "| Layer | Tool | What it tells you |\n",
            "|-------|------|-------------------|\n",
            "| Python code | `cProfile`, `line_profiler` | Python‑level bottlenecks (data prep, post‑proc) |\n",
            "| TensorFlow | TensorBoard Profiler, `tf.profiler` | Ops breakdown, device placement |\n",
            "| PyTorch | `torch.profiler`, `torch.utils.bottleneck` | Kernel timings, CUDA sync issues |\n",
            "| System | `nvidia‑smi`, `perf`, `vtune` | GPU memory, PCIe throughput, CPU stalls |\n",
            "| End‑to‑end | `wrk`, `hey`, `locust` | Request‑level latency, QPS, tail latencies |\n",
            "\n",
            "**Action:** Run a few representative payloads (batch‑size = 1, typical batch size, worst‑case input) and record the numbers. This gives you a concrete target (e.g., “current 95th‑pct latency = 210 ms, we need < 80 ms”).\n",
            "\n",
            "---\n",
            "\n",
            "## 2️⃣  Model‑Level Optimizations  \n",
            "\n",
            "These techniques change the *graph* or *weights* of the model. They are usually the first place you get the biggest win with minimal impact on the serving stack.\n",
            "\n",
            "| Technique | What it does | Typical speed‑up | When to use | Alternatives |\n",
            "|-----------|--------------|------------------|-------------|--------------|\n",
            "| **Quantization** (int8, fp16, bfloat16) | Reduces bit‑width of weights/activations → smaller memory, faster arithmetic on supported HW | 2‑4× on GPU/CPU, up to 10× on specialized ASICs (e.g., EdgeTPU) | Model is tolerant to reduced precision (most CNNs, Transformers after fine‑tuning) | Dynamic quantization, static quantization, QAT (Quantization‑Aware Training) |\n",
            "| **Pruning / Sparsity** | Zeroes out unimportant weights → fewer MACs, can be exploited by sparse kernels | 1.5‑2× on hardware that supports sparsity (e.g., NVIDIA Ampere’s 2:4 structured sparsity) | You have a lot of over‑parameterization, can re‑train/fine‑tune after pruning | Structured pruning (filter/channel) vs. unstructured |\n",
            "| **Knowledge Distillation** | Train a small “student” to mimic a large “teacher” → smaller architecture | 2‑10× depending on size reduction | Need to preserve accuracy, have data for distillation | Teacher‑free distillation (self‑distill), early‑exit models |\n",
            "| **Operator Fusion / Graph Rewrites** | Merge adjacent ops (e.g., Conv+BatchNorm+ReLU) into a single kernel | 1.2‑1.5×, reduces memory traffic | Most frameworks already do this, but custom ops may need manual fusion | Use compiler stacks like TVM, TensorRT, XLA |\n",
            "| **Neural Architecture Search (NAS) for latency** | Search for architecture that meets a latency budget on target HW | Up to 5× if you start from a generic model | Expensive compute budget, usually done offline | Manual redesign, MobileNet‑style depthwise separable convs |\n",
            "\n",
            "### Quick‑Start Quantization Example (PyTorch → ONNX → TensorRT)\n",
            "\n",
            "```python\n",
            "# 1️⃣  Load a float32 model (e.g., ResNet50)\n",
            "import torch, torchvision\n",
            "model = torchvision.models.resnet50(pretrained=True).eval()\n",
            "\n",
            "# 2️⃣  Switch to evaluation mode and fuse modules (conv+bn+relu)\n",
            "model_fused = torch.quantization.fuse_modules(\n",
            "    model,\n",
            "    [['conv1', 'bn1', 'relu']],\n",
            "    inplace=True\n",
            ")\n",
            "\n",
            "# 3️⃣  Prepare for static quantization\n",
            "model_fused.qconfig = torch.quantization.get_default_qconfig('fbgemm')\n",
            "torch.quantization.prepare(model_fused, inplace=True)\n",
            "\n",
            "# 4️⃣  Calibrate with a few batches of real data\n",
            "import torch.utils.data as data\n",
            "calib_loader = data.DataLoader(\n",
            "    torchvision.datasets.ImageNet('./data', split='val',\n",
            "                                  transform=torchvision.transforms.Compose([\n",
            "                                      torchvision.transforms.Resize(256),\n",
            "                                      torchvision.transforms.CenterCrop(224),\n",
            "                                      torchvision.transforms.ToTensor()\n",
            "                                  ])),\n",
            "    batch_size=32, shuffle=False, num_workers=4)\n",
            "\n",
            "with torch.no_grad():\n",
            "    for imgs, _ in calib_loader:\n",
            "        model_fused(imgs)\n",
            "        break   # a few batches are enough for calibration\n",
            "\n",
            "# 5️⃣  Convert to int8\n",
            "torch.quantization.convert(model_fused, inplace=True)\n",
            "\n",
            "# 6️⃣  Export to ONNX (TensorRT can ingest int8 ONNX)\n",
            "dummy = torch.randn(1, 3, 224, 224)\n",
            "torch.onnx.export(model_fused, dummy, \"resnet50_int8.onnx\",\n",
            "                  opset_version=13, input_names=['input'],\n",
            "                  output_names=['output'], dynamic_axes={'input': {0: 'batch'}})\n",
            "\n",
            "# 7️⃣  Build TensorRT engine (CLI example)\n",
            "#   trtexec --onnx=resnet50_int8.onnx --int8 --saveEngine=resnet50_int8.trt\n",
            "```\n",
            "\n",
            "**Why this path?**  \n",
            "- **PyTorch → ONNX** is framework‑agnostic, letting you later serve with TensorRT, ONNX Runtime, or any other runtime that supports int8.  \n",
            "- **Static quantization** (calibration) gives the best speed on CPUs/GPUs that have int8 kernels.  \n",
            "- **TensorRT** automatically fuses ops, applies layer‑wise kernel auto‑tuning, and can exploit NVIDIA’s structured sparsity if you also prune.\n",
            "\n",
            "**Alternatives**  \n",
            "- **Dynamic quantization** (`torch.quantization.quantize_dynamic`) – easier, works on CPU only, no calibration needed.  \n",
            "- **Quantization‑Aware Training (QAT)** – if static quantization hurts accuracy > 1‑2 %, train with fake‑quant nodes to recover it.  \n",
            "- **BFloat16** – on newer GPUs (A100, H100) you can keep fp16‑compatible kernels but avoid the accuracy drop of int8.\n",
            "\n",
            "---\n",
            "\n",
            "## 3️⃣  Runtime & Hardware Leveraging  \n",
            "\n",
            "Even a perfectly optimized graph won’t be fast if the runtime or hardware isn’t tuned.\n",
            "\n",
            "| Lever | What to do | Typical gain | When it matters | Caveats |\n",
            "|------|------------|--------------|-----------------|---------|\n",
            "| **GPU/TPU selection** | Use latest generation (e.g., NVIDIA A100, H100, or G4 for inference) | 1.5‑3× over older cards | High QPS workloads, large batch sizes | Cost & availability |\n",
            "| **FP16 / BF16 inference** | Enable mixed‑precision kernels (`torch.cuda.amp.autocast`, TensorRT `--fp16`) | 2× on GPUs with Tensor Cores | Models that tolerate reduced precision | Slight accuracy loss on some layers |\n",
            "| **Batching** | Accumulate multiple requests before sending to the model (dynamic or static batch) | 2‑10× throughput, latency may increase slightly | High QPS, latency budget > 10 ms | Must manage request queuing & timeout |\n",
            "| **Async / Multi‑stream execution** | Use CUDA streams or async inference APIs (e.g., Triton `async_infer`) | Improves GPU utilization, reduces tail latency | Mixed CPU/GPU workloads | Complexity in code |\n",
            "| **TensorRT / ONNX Runtime / TVM** | Deploy with a high‑performance runtime that does kernel auto‑tuning | 1.5‑3× over vanilla PyTorch/TensorFlow | Production services, need low latency | Requires model conversion (ONNX) |\n",
            "| **Edge ASICs (EdgeTPU, NPU, FPGA)** | Compile model to specialized instruction set (e.g., Coral EdgeTPU) | 10‑30× for tiny models | On‑device inference, power‑constrained | Model size limits, quantization mandatory |\n",
            "| **CPU vector extensions** | Enable AVX2/AVX‑512, use Intel OpenVINO, MKL‑DNN | 2‑4× on modern CPUs | When GPU not available or cost‑sensitive | Need to build with appropriate flags |\n",
            "\n",
            "### Example: Deploying with NVIDIA Triton Inference Server (Batched FP16)\n",
            "\n",
            "```yaml\n",
            "# model_repository/resnet50/1/model.yaml\n",
            "name: \"resnet50\"\n",
            "platform: \"onnxruntime_onnx_fp16\"\n",
            "max_batch_size: 32          # enables static batching up to 32\n",
            "input:\n",
            "  - name: \"input\"\n",
            "    data_type: TYPE_FP16\n",
            "    dims: [3, 224, 224]\n",
            "output:\n",
            "  - name: \"output\"\n",
            "    data_type: TYPE_FP32\n",
            "    dims: [1000]\n",
            "```\n",
            "\n",
            "```bash\n",
            "# 1️⃣  Start Triton (Docker)\n",
            "docker run --gpus all -p8000:8000 -p8001:8001 -p8002:8002 \\\n",
            "  -v$(pwd)/model_repository:/models nvcr.io/nvidia/tritonserver:24.09-py3 tritonserver \\\n",
            "  --model-repository=/models --strict-model-config=true\n",
            "\n",
            "# 2️⃣  Client (Python) – asynchronous batched request\n",
            "import tritonclient.http as httpclient\n",
            "import numpy as np, asyncio\n",
            "\n",
            "triton_client = httpclient.InferenceServerClient(url=\"localhost:8000\")\n",
            "\n",
            "async def async_infer(image_np):\n",
            "    inputs = httpclient.InferInput(\"input\", image_np.shape, \"FP16\")\n",
            "    inputs.set_data_from_numpy(image_np.astype(np.float16))\n",
            "    result = await triton_client.async_infer(\n",
            "        model_name=\"resnet50\",\n",
            "        inputs=[inputs],\n",
            "        request_id=\"req-{}\".format(id(image_np))\n",
            "    )\n",
            "    return result.as_numpy(\"output\")\n",
            "\n",
            "# Example usage with an event loop\n",
            "loop = asyncio.get_event_loop()\n",
            "futures = [async_infer(batch) for batch in my_batch_generator()]\n",
            "outputs = loop.run_until_complete(asyncio.gather(*futures))\n",
            "```\n",
            "\n",
            "**Why Triton?**  \n",
            "- Handles **dynamic batching** out‑of‑the‑box (you just set `max_batch_size`).  \n",
            "- Offers **model versioning**, **metrics**, **GPU sharing**, and **multiple runtimes** (TensorRT, ONNX Runtime, PyTorch).  \n",
            "- Works well with **async client libraries**, giving you low tail‑latency without manual thread pools.\n",
            "\n",
            "**Alternatives**  \n",
            "- **TorchServe** – simpler if you’re all‑PyTorch and need built‑in model‑versioning.  \n",
            "- **KFServing / Seldon Core** – Kubernetes‑native, good for multi‑framework ensembles.  \n",
            "- **Custom Flask/FastAPI + TorchScript** – fastest to prototype but you lose batching & auto‑tuning.\n",
            "\n",
            "---\n",
            "\n",
            "## 4️⃣  System‑Level & Architectural Tweaks  \n",
            "\n",
            "| Lever | Description | Typical effect | When to apply |\n",
            "|------|-------------|----------------|---------------|\n",
            "| **Cold‑start mitigation** | Keep a warm pool of workers, pre‑load model into GPU memory | Removes first‑request spikes (often > 500 ms) | Low‑traffic services, serverless |\n",
            "| **Model‑sharding / Pipeline parallelism** | Split a huge model across multiple GPUs, or run pre‑/post‑processing on CPU | Can keep per‑GPU latency low while scaling throughput | Very large Transformers (BERT‑large, LLMs) |\n",
            "| **Cache repeated inference** | Store embeddings or logits for identical inputs (e.g., recommendation candidate generation) | Near‑zero latency for cache hits | High request duplication, low‑entropy inputs |\n",
            "| **Input preprocessing off‑load** | Use a separate microservice (or GPU) for image resizing, tokenization | Reduces request‑handler CPU load | When preprocessing dominates latency |\n",
            "| **Network & Serialization** | Use gRPC + protobuf, enable HTTP/2, compress payloads | 10‑30 % latency reduction on the wire | High‑QPS, large payloads |\n",
            "| **Autoscaling with latency‑based policies** | Scale out when 95th‑pct latency > target, scale in otherwise | Keeps latency within SLA while controlling cost | Cloud‑native deployments (K8s HPA, Cloud Run) |\n",
            "\n",
            "**Design Decision Example:**  \n",
            "Suppose you have a BERT‑base model serving 200 RPS with a 95th‑pct latency of 140 ms. After profiling you see:\n",
            "\n",
            "- 30 ms spent in tokenization (CPU)  \n",
            "- 80 ms spent in the model (GPU)  \n",
            "- 30 ms in network/serialization  \n",
            "\n",
            "A good first step: **move tokenization to a separate async service** (e.g., FastAPI with `uvicorn --workers 4`). This can parallelize CPU work with GPU inference and often cuts total latency to ~110 ms without touching the model itself.\n",
            "\n",
            "---\n",
            "\n",
            "## 5️⃣  Validation & Continuous Monitoring  \n",
            "\n",
            "1. **Regression test** the new pipeline against the baseline (latency, throughput, accuracy).  \n",
            "2. **Canary deploy** the optimized model to a small traffic slice (e.g., 5 %).  \n",
            "3. **Monitor**:  \n",
            "   - `latency_p95`, `latency_p99` (Prometheus metrics from Triton/TFServing)  \n",
            "   - GPU memory/SM utilization (`nvml` exporter)  \n",
            "   - Errors / fallback rate (if you have a fallback to float32)  \n",
            "\n",
            "If the canary meets SLA *and* the accuracy drop is within your tolerance (e.g., < 0.5 % top‑1), promote to production.\n",
            "\n",
            "---\n",
            "\n",
            "## 📋 TL;DR Checklist\n",
            "\n",
            "| ✅ | Action | Tool / Code |\n",
            "|---|--------|--------------|\n",
            "| 1 | **Profile** real traffic → identify bottleneck | `torch.profiler`, `nvprof`, `wrk` |\n",
            "| 2 | **Quantize** (int8) → export ONNX → TensorRT engine | PyTorch QAT / static quant, `trtexec` |\n",
            "| 3 | **Prune** (structured) → fine‑tune | `torch.nn.utils.prune` |\n",
            "| 4 | **Distill** to a smaller architecture if size matters | `torch.nn.KLDivLoss` + teacher logits |\n",
            "| 5 | **Select runtime** that does kernel auto‑tuning | Triton, TensorRT, ONNX Runtime, TVM |\n",
            "| 6 | **Enable batching** (static or dynamic) | Triton `max_batch_size`, TensorFlow `tf.function` with `batch_size` |\n",
            "| 7 | **Use mixed‑precision** (FP16/BF16) on Tensor Cores | `torch.cuda.amp.autocast`, TensorRT `--fp16` |\n",
            "| 8 | **Deploy** with warm workers, async client, and proper health checks | Docker + Triton, FastAPI for pre‑proc |\n",
            "| 9 | **Monitor & Canary** → roll‑out when metrics meet SLA | Prometheus + Grafana, K8s HPA |\n",
            "|10| **Iterate**: if latency still high, revisit architecture (e.g., MobileNetV3, EfficientNet, or a Transformer with early‑exit) | NAS, manual redesign |\n",
            "\n",
            "---\n",
            "\n",
            "### Final Thought\n",
            "\n",
            "Speed is a **stacked problem**: you gain the most by first fixing the *slowest* layer (often the model itself), then tightening the *runtime* and *system* layers. A disciplined profiling‑first approach ensures you don’t waste engineering effort on a technique that yields only marginal gains for your particular workload.  \n",
            "\n",
            "Feel free to let me know which part of your stack you’d like to dive deeper into (e.g., “show me how to do quant‑aware training for a Vision Transformer” or “set up dynamic batching with FastAPI + TorchServe”), and I can provide a more focused code walk‑through.\n",
            "----------\n",
            "CPU times: user 8.04 ms, sys: 950 µs, total: 8.99 ms\n",
            "Wall time: 23 s\n"
          ]
        }
      ],
      "source": [
        "%%time\n",
        "\n",
        "reasoning_effort = \"high\"  # Options: \"low\", \"medium\", \"high\"\n",
        "\n",
        "# try another model\n",
        "completion = client.chat.completions.create(\n",
        "  model = MODEL_NAME,\n",
        "  messages=[\n",
        "    {\n",
        "        \"role\": \"system\",\n",
        "        \"content\": f\"\"\"\n",
        "        You are an expert in MLOps and interviewing for a job.\n",
        "    Reasoning: {reasoning_effort}\n",
        "    For each task, explain your thinking step by step before showing code.\n",
        "    Justify key design decisions and list alternatives when relevant.\n",
        "        \"\"\"\n",
        "    },\n",
        "    {\n",
        "        \"role\": \"user\",\n",
        "        \"content\": \"How can we make model inferencing faster?\"\n",
        "    }\n",
        "  ],\n",
        "  temperature=0.6\n",
        ")\n",
        "\n",
        "print (completion.choices[0].message.content)\n",
        "print ('----------')"
      ]
    },
    {
      "cell_type": "markdown",
      "metadata": {
        "id": "Y7JaLormtgTR"
      },
      "source": [
        "## 5 - Try Your Queries\n",
        "\n",
        "Go ahead and experiment with your queries.  Here are some to get you started.\n",
        "\n",
        "> Write python code to read a csv file\n",
        "\n",
        "> write a haiku about cats"
      ]
    },
    {
      "cell_type": "code",
      "execution_count": 6,
      "metadata": {
        "id": "poXPoPfOzomP"
      },
      "outputs": [],
      "source": []
    }
  ],
  "metadata": {
    "colab": {
      "provenance": []
    },
    "kernelspec": {
      "display_name": "studio-cookbook-1",
      "language": "python",
      "name": "studio-cookbook-1"
    },
    "language_info": {
      "codemirror_mode": {
        "name": "ipython",
        "version": 3
      },
      "file_extension": ".py",
      "mimetype": "text/x-python",
      "name": "python",
      "nbconvert_exporter": "python",
      "pygments_lexer": "ipython3",
      "version": "3.11.12"
    }
  },
  "nbformat": 4,
  "nbformat_minor": 0
}
